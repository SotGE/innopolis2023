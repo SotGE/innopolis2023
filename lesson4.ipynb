{
 "cells": [
  {
   "cell_type": "code",
   "execution_count": 45,
   "id": "ced28a04",
   "metadata": {},
   "outputs": [],
   "source": [
    "import numpy as np"
   ]
  },
  {
   "attachments": {},
   "cell_type": "markdown",
   "id": "886095e0",
   "metadata": {},
   "source": [
    "## Задача 1"
   ]
  },
  {
   "cell_type": "code",
   "execution_count": 46,
   "id": "1baa32a2",
   "metadata": {},
   "outputs": [],
   "source": [
    "# Объявляем матрицы\n",
    "\n",
    "A = np.matrix([[1, 2, 1],\n",
    "               [-2, 1, 1]])\n",
    "\n",
    "B = np.matrix([[3, 1],\n",
    "               [-1, 0],\n",
    "               [2, 4]])\n",
    "\n",
    "C = np.matrix([[-2, 2],\n",
    "               [1, -1],\n",
    "               [1, 2]])"
   ]
  },
  {
   "cell_type": "code",
   "execution_count": 47,
   "metadata": {},
   "outputs": [
    {
     "name": "stdout",
     "output_type": "stream",
     "text": [
      "[[ 1  2  1]\n",
      " [-2  1  1]\n",
      " [ 0  0  0]]\n",
      "[[ 3  1  0]\n",
      " [-1  0  0]\n",
      " [ 2  4  0]]\n"
     ]
    }
   ],
   "source": [
    "# Копирование и преобразование матриц\n",
    "\n",
    "# Добавить строку с нулями в конец\n",
    "AA = np.insert(A, 2, 0, axis=0).copy()\n",
    "print(AA)\n",
    "\n",
    "# Добавить столбец с нулями в конец\n",
    "BB = np.insert(B, 2, 0, axis=1).copy()\n",
    "print(BB)"
   ]
  },
  {
   "cell_type": "code",
   "execution_count": 48,
   "id": "51a5c8ea",
   "metadata": {},
   "outputs": [
    {
     "name": "stdout",
     "output_type": "stream",
     "text": [
      "[[ 7  4  1]\n",
      " [-4  1  1]\n",
      " [ 4  8  0]]\n",
      "[[-1  5]\n",
      " [ 1 -2]\n",
      " [ 4  8]]\n"
     ]
    }
   ],
   "source": [
    "# Математические операции над матрицами\n",
    "\n",
    "# Преобразованные копии матрицы (уравнивание размерности)\n",
    "matrixResult1 = AA + 2 * BB\n",
    "print(matrixResult1)\n",
    "\n",
    "# Оригиналы матриц\n",
    "matrixResult2 = B + 2 * C\n",
    "print(matrixResult2)"
   ]
  },
  {
   "cell_type": "code",
   "execution_count": 49,
   "id": "7df50657",
   "metadata": {},
   "outputs": [
    {
     "name": "stdout",
     "output_type": "stream",
     "text": [
      "[[ 1 -2]\n",
      " [ 2  1]\n",
      " [ 1  1]]\n",
      "[[7 0]\n",
      " [0 1]\n",
      " [5 9]]\n"
     ]
    }
   ],
   "source": [
    "# Решение первой математической операции с помощью транспонирование матрицы\n",
    "AAA = np.transpose(A).copy()\n",
    "print(AAA)\n",
    "\n",
    "# Решение\n",
    "matrixResult1 = AAA + 2 * B\n",
    "print(matrixResult1)"
   ]
  },
  {
   "attachments": {},
   "cell_type": "markdown",
   "id": "df3a3e96",
   "metadata": {},
   "source": [
    "## Задача 2"
   ]
  },
  {
   "cell_type": "code",
   "execution_count": 50,
   "id": "94a61cf9",
   "metadata": {},
   "outputs": [
    {
     "name": "stdout",
     "output_type": "stream",
     "text": [
      "[[0. 0. 0. 0. 0. 0. 0. 0.]\n",
      " [0. 0. 0. 0. 0. 0. 0. 0.]\n",
      " [0. 0. 0. 0. 0. 0. 0. 0.]\n",
      " [0. 0. 0. 0. 0. 0. 0. 0.]\n",
      " [0. 0. 0. 0. 0. 0. 0. 0.]\n",
      " [0. 0. 0. 0. 0. 0. 0. 0.]\n",
      " [0. 0. 0. 0. 0. 0. 0. 0.]\n",
      " [0. 0. 0. 0. 0. 0. 0. 0.]]\n"
     ]
    }
   ],
   "source": [
    "# Создание матрицы 8х8, заполненное нулями\n",
    "zero = np.zeros((8, 8))\n",
    "print(zero)"
   ]
  },
  {
   "cell_type": "code",
   "execution_count": 51,
   "id": "afb70aad",
   "metadata": {},
   "outputs": [
    {
     "name": "stdout",
     "output_type": "stream",
     "text": [
      "[[0. 1. 0. 1. 0. 1. 0. 1.]\n",
      " [1. 0. 1. 0. 1. 0. 1. 0.]\n",
      " [0. 1. 0. 1. 0. 1. 0. 1.]\n",
      " [1. 0. 1. 0. 1. 0. 1. 0.]\n",
      " [0. 1. 0. 1. 0. 1. 0. 1.]\n",
      " [1. 0. 1. 0. 1. 0. 1. 0.]\n",
      " [0. 1. 0. 1. 0. 1. 0. 1.]\n",
      " [1. 0. 1. 0. 1. 0. 1. 0.]]\n"
     ]
    }
   ],
   "source": [
    "# Заполнение матрицы единицами в шахматном порядке\n",
    "zero[0::2, 1::2] = 1\n",
    "zero[1::2, 0::2] = 1\n",
    "print(zero)"
   ]
  },
  {
   "attachments": {},
   "cell_type": "markdown",
   "id": "9aceeea3",
   "metadata": {},
   "source": [
    "## Задача 3"
   ]
  },
  {
   "cell_type": "code",
   "execution_count": 52,
   "id": "be709b35",
   "metadata": {},
   "outputs": [
    {
     "name": "stdout",
     "output_type": "stream",
     "text": [
      "[0.  0.1 0.2 0.3 0.4 0.5 0.6 0.7 0.8 0.9 1.  1.1 1.2 1.3 1.4]\n",
      "(15,)\n",
      "15\n",
      "[0.         0.10714286 0.21428571 0.32142857 0.42857143 0.53571429\n",
      " 0.64285714 0.75       0.85714286 0.96428571 1.07142857 1.17857143\n",
      " 1.28571429 1.39285714 1.5       ]\n",
      "(15,)\n",
      "15\n",
      "0.10714285714285714\n",
      "[1 2 3 4 5 6]\n",
      "(6,)\n",
      "6\n",
      "[1 2 3 4 5 6]\n",
      "(6,)\n",
      "6\n",
      "1.0\n"
     ]
    }
   ],
   "source": [
    "# Формирование векторов\n",
    "\n",
    "# Вектор с шагом 0.1\n",
    "vec1 = np.arange(start=0, stop=1.5, step=0.1, dtype='float')\n",
    "print(vec1)\n",
    "print(vec1.shape) # Длинна многомерного массива\n",
    "print(vec1.size) # Размерность\n",
    "\n",
    "# Другой способ\n",
    "gen_sequence1, step1 = np.linspace(0, 1.5, num=15, dtype='float', retstep=True)\n",
    "print(gen_sequence1)\n",
    "print(gen_sequence1.shape) # Длинна многомерного массива\n",
    "print(gen_sequence1.size) # Размерность\n",
    "print(step1) # Шаг\n",
    "\n",
    "# Вектор с шагом 1\n",
    "vec2 = np.arange(start=1, stop=7, step=1, dtype='int64')\n",
    "print(vec2)\n",
    "print(vec2.shape) # Длинна многомерного массива\n",
    "print(vec2.size) # Размерность\n",
    "\n",
    "# Другой способ\n",
    "gen_sequence2, step2 = np.linspace(1, 6, num=6, dtype='int64', retstep=True)\n",
    "print(gen_sequence2)\n",
    "print(gen_sequence2.shape) # Длинна многомерного массива\n",
    "print(gen_sequence2.size) # Размерность\n",
    "print(step2) # Шаг"
   ]
  },
  {
   "cell_type": "code",
   "execution_count": 53,
   "id": "c04f23b3",
   "metadata": {},
   "outputs": [
    {
     "name": "stdout",
     "output_type": "stream",
     "text": [
      "[[0.  0.1 0.2]\n",
      " [0.3 0.4 0.5]\n",
      " [0.6 0.7 0.8]\n",
      " [0.9 1.  1.1]\n",
      " [1.2 1.3 1.4]]\n",
      "[[1 2]\n",
      " [3 4]\n",
      " [5 6]]\n"
     ]
    }
   ],
   "source": [
    "# Преобразование вектора в матрицу 5х3\n",
    "vec1 = vec1.reshape(5, 3)\n",
    "print(vec1)\n",
    "\n",
    "# Преобразование вектора в матрицу 3х2\n",
    "vec2 = vec2.reshape(3, 2)\n",
    "print(vec2)"
   ]
  },
  {
   "cell_type": "code",
   "execution_count": 54,
   "id": "fd3b8d86",
   "metadata": {},
   "outputs": [
    {
     "name": "stdout",
     "output_type": "stream",
     "text": [
      "[[1 2 0]\n",
      " [3 4 0]\n",
      " [5 6 0]\n",
      " [0 0 0]\n",
      " [0 0 0]]\n",
      "[[0.  0.2 0. ]\n",
      " [0.9 1.6 0. ]\n",
      " [3.  4.2 0. ]\n",
      " [0.  0.  0. ]\n",
      " [0.  0.  0. ]]\n"
     ]
    }
   ],
   "source": [
    "# Перемножение матриц\n",
    "vec1.dot(vec2)\n",
    "np.matmul(vec1, vec2)\n",
    "\n",
    "# Приводим матрицы к одной форме (Broadcasting)\n",
    "vec2copy = np.insert(vec2, 3, 0, axis=0).copy()\n",
    "vec2copy = np.insert(vec2copy, 4, 0, axis=0)\n",
    "vec2copy = np.insert(vec2copy, 2, 0, axis=1)\n",
    "print(vec2copy)\n",
    "\n",
    "# Перемножение матриц\n",
    "vec3 = vec1 * vec2copy\n",
    "print(vec3)"
   ]
  },
  {
   "attachments": {},
   "cell_type": "markdown",
   "id": "c14c01fb",
   "metadata": {},
   "source": [
    "## Задача 4"
   ]
  },
  {
   "cell_type": "code",
   "execution_count": 55,
   "id": "c44c672f",
   "metadata": {},
   "outputs": [
    {
     "name": "stdout",
     "output_type": "stream",
     "text": [
      "[ 1  3  5  7  9 11 13 15 17 19 21 23 25 27 29 31 33 35]\n"
     ]
    }
   ],
   "source": [
    "# Формирование вектора из целых чисел\n",
    "vec = np.arange(start=1, stop=37, step=2, dtype='int32')\n",
    "print(vec)"
   ]
  },
  {
   "cell_type": "code",
   "execution_count": 56,
   "id": "015df50a",
   "metadata": {},
   "outputs": [
    {
     "name": "stdout",
     "output_type": "stream",
     "text": [
      "[ 3  9 15 21 27 33]\n"
     ]
    },
    {
     "data": {
      "text/plain": [
       "array([False,  True, False, False,  True, False, False,  True, False,\n",
       "       False,  True, False, False,  True, False, False,  True, False])"
      ]
     },
     "execution_count": 56,
     "metadata": {},
     "output_type": "execute_result"
    }
   ],
   "source": [
    "# Элементы кратные 3\n",
    "result = vec[vec % 3 == 0]\n",
    "print(result)\n",
    "\n",
    "# Bool обображение в матрице по условию\n",
    "vec % 3 == 0"
   ]
  }
 ],
 "metadata": {
  "kernelspec": {
   "display_name": "Python 3 (ipykernel)",
   "language": "python",
   "name": "python3"
  },
  "language_info": {
   "codemirror_mode": {
    "name": "ipython",
    "version": 3
   },
   "file_extension": ".py",
   "mimetype": "text/x-python",
   "name": "python",
   "nbconvert_exporter": "python",
   "pygments_lexer": "ipython3",
   "version": "3.11.4"
  }
 },
 "nbformat": 4,
 "nbformat_minor": 5
}
