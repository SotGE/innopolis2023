{
 "cells": [
  {
   "cell_type": "code",
   "execution_count": 2,
   "id": "47260851",
   "metadata": {},
   "outputs": [
    {
     "name": "stdout",
     "output_type": "stream",
     "text": [
      "Сорокин Максим Евгеньевич\n"
     ]
    }
   ],
   "source": [
    "print(\"Сорокин Максим Евгеньевич\")"
   ]
  },
  {
   "cell_type": "code",
   "execution_count": 25,
   "id": "ace3ea97",
   "metadata": {},
   "outputs": [],
   "source": [
    "class Text:\n",
    "    def __init__(self, name):\n",
    "        self.__name = name\n",
    "    def hi(self, *args):\n",
    "        print(f'Привет, {self.__name}')"
   ]
  },
  {
   "cell_type": "code",
   "execution_count": 26,
   "id": "1d70b071",
   "metadata": {
    "scrolled": true
   },
   "outputs": [],
   "source": [
    "instance = Text('Сорокин Максим Евгеньевич')"
   ]
  },
  {
   "cell_type": "code",
   "execution_count": 27,
   "id": "5c643657",
   "metadata": {},
   "outputs": [
    {
     "name": "stdout",
     "output_type": "stream",
     "text": [
      "Привет, Сорокин Максим Евгеньевич\n"
     ]
    }
   ],
   "source": [
    "instance.hi()"
   ]
  },
  {
   "cell_type": "code",
   "execution_count": null,
   "id": "ad7ba0f6",
   "metadata": {},
   "outputs": [],
   "source": []
  }
 ],
 "metadata": {
  "kernelspec": {
   "display_name": "Python 3 (ipykernel)",
   "language": "python",
   "name": "python3"
  },
  "language_info": {
   "codemirror_mode": {
    "name": "ipython",
    "version": 3
   },
   "file_extension": ".py",
   "mimetype": "text/x-python",
   "name": "python",
   "nbconvert_exporter": "python",
   "pygments_lexer": "ipython3",
   "version": "3.11.4"
  }
 },
 "nbformat": 4,
 "nbformat_minor": 5
}
