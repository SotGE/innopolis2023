{
  "cells": [
    {
      "cell_type": "markdown",
      "source": [
        "# Домашнее задание № 1\n",
        "## Тема \"Высшая математика\"\n",
        "### Формулировка задания:\n",
        "1. Решить задачи по высшей математике\n",
        "2. Решить матрицы\n",
        "\n",
        "![Скриншот 22-06-2023 181806.jpg](data:image/jpeg;base64,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)\n"
      ],
      "metadata": {
        "id": "n29t9yG4PYcO"
      },
      "id": "n29t9yG4PYcO"
    },
    {
      "cell_type": "code",
      "execution_count": null,
      "id": "283f0282",
      "metadata": {
        "id": "283f0282"
      },
      "outputs": [],
      "source": [
        "import numpy as np"
      ]
    },
    {
      "cell_type": "code",
      "execution_count": null,
      "id": "cc59b6e0",
      "metadata": {
        "id": "cc59b6e0"
      },
      "outputs": [],
      "source": [
        "matrix1 = [[6, -8, 3]]"
      ]
    },
    {
      "cell_type": "code",
      "execution_count": null,
      "id": "1d700803",
      "metadata": {
        "id": "1d700803"
      },
      "outputs": [],
      "source": [
        "matrix2 = [[1],\n",
        "           [1],\n",
        "           [4]]"
      ]
    },
    {
      "cell_type": "code",
      "execution_count": null,
      "id": "68fa28b7",
      "metadata": {
        "id": "68fa28b7"
      },
      "outputs": [],
      "source": [
        "A = np.matrix(matrix1)"
      ]
    },
    {
      "cell_type": "code",
      "execution_count": null,
      "id": "0252d331",
      "metadata": {
        "id": "0252d331"
      },
      "outputs": [],
      "source": [
        "B = np.matrix(matrix2)"
      ]
    },
    {
      "cell_type": "code",
      "execution_count": null,
      "id": "5faf64eb",
      "metadata": {
        "id": "5faf64eb"
      },
      "outputs": [],
      "source": [
        "C = A * B"
      ]
    },
    {
      "cell_type": "code",
      "execution_count": null,
      "id": "cbe5ac70",
      "metadata": {
        "colab": {
          "base_uri": "https://localhost:8080/"
        },
        "id": "cbe5ac70",
        "outputId": "0da08a41-9840-443f-b8a9-b7a170879f4c"
      },
      "outputs": [
        {
          "output_type": "stream",
          "name": "stdout",
          "text": [
            "[[10]]\n"
          ]
        }
      ],
      "source": [
        "print(C)"
      ]
    },
    {
      "cell_type": "code",
      "execution_count": null,
      "id": "026d1b75",
      "metadata": {
        "id": "026d1b75"
      },
      "outputs": [],
      "source": [
        "matrix3 = [[-3, -7],\n",
        "           [-10, 6],\n",
        "           [0, -6],\n",
        "           [-1, -3]]"
      ]
    },
    {
      "cell_type": "code",
      "execution_count": null,
      "id": "3e123578",
      "metadata": {
        "id": "3e123578"
      },
      "outputs": [],
      "source": [
        "matrix4 = [[-8, 9],\n",
        "           [4, -2]]"
      ]
    },
    {
      "cell_type": "code",
      "execution_count": null,
      "id": "65edbbf4",
      "metadata": {
        "id": "65edbbf4"
      },
      "outputs": [],
      "source": [
        "D = np.matrix(matrix3)"
      ]
    },
    {
      "cell_type": "code",
      "execution_count": null,
      "id": "cd1be736",
      "metadata": {
        "id": "cd1be736"
      },
      "outputs": [],
      "source": [
        "E = np.matrix(matrix4)"
      ]
    },
    {
      "cell_type": "code",
      "execution_count": null,
      "id": "ccfef2c6",
      "metadata": {
        "id": "ccfef2c6"
      },
      "outputs": [],
      "source": [
        "F = D * E"
      ]
    },
    {
      "cell_type": "code",
      "execution_count": null,
      "id": "acc89303",
      "metadata": {
        "colab": {
          "base_uri": "https://localhost:8080/"
        },
        "id": "acc89303",
        "outputId": "b59c643d-f0f3-44d0-85a5-2b94ca3fcbcf"
      },
      "outputs": [
        {
          "output_type": "stream",
          "name": "stdout",
          "text": [
            "[[  -4  -13]\n",
            " [ 104 -102]\n",
            " [ -24   12]\n",
            " [  -4   -3]]\n"
          ]
        }
      ],
      "source": [
        "print(F)"
      ]
    },
    {
      "cell_type": "markdown",
      "source": [
        "# Без Numpy"
      ],
      "metadata": {
        "id": "eESKNnSK0pXT"
      },
      "id": "eESKNnSK0pXT"
    },
    {
      "cell_type": "code",
      "execution_count": null,
      "id": "d01ede99",
      "metadata": {
        "id": "d01ede99"
      },
      "outputs": [],
      "source": [
        "def matrix(param1, param2):\n",
        "  result = []\n",
        "  for i in range(len(param1)):\n",
        "    temp = []\n",
        "    for j in range(len(param2[0])):\n",
        "      temp.append(0)\n",
        "    result.append(temp)\n",
        "  for i in range(len(param1)):\n",
        "    for j in range(len(param2[0])):\n",
        "      for k in range(len(param1[0])):\n",
        "        result[i][j] += param1[i][k] * param2[k][j]\n",
        "  return result"
      ]
    },
    {
      "cell_type": "code",
      "execution_count": null,
      "id": "fd74f0ba",
      "metadata": {
        "colab": {
          "base_uri": "https://localhost:8080/"
        },
        "id": "fd74f0ba",
        "outputId": "31ca8d9b-f2a5-47dc-8ac1-a9eac2ddc4b4"
      },
      "outputs": [
        {
          "output_type": "stream",
          "name": "stdout",
          "text": [
            "[[10]]\n"
          ]
        }
      ],
      "source": [
        "print(matrix(matrix1, matrix2))"
      ]
    },
    {
      "cell_type": "code",
      "execution_count": null,
      "id": "7b4acef2",
      "metadata": {
        "colab": {
          "base_uri": "https://localhost:8080/"
        },
        "id": "7b4acef2",
        "outputId": "2f3e2e89-c966-4c4c-dda8-73c39bd8133e"
      },
      "outputs": [
        {
          "output_type": "stream",
          "name": "stdout",
          "text": [
            "[[-4, -13], [104, -102], [-24, 12], [-4, -3]]\n"
          ]
        }
      ],
      "source": [
        "print(matrix(matrix3, matrix4))"
      ]
    },
    {
      "cell_type": "markdown",
      "source": [],
      "metadata": {
        "id": "yJjeTU1x0mKG"
      },
      "id": "yJjeTU1x0mKG"
    }
  ],
  "metadata": {
    "kernelspec": {
      "display_name": "Python 3 (ipykernel)",
      "language": "python",
      "name": "python3"
    },
    "language_info": {
      "codemirror_mode": {
        "name": "ipython",
        "version": 3
      },
      "file_extension": ".py",
      "mimetype": "text/x-python",
      "name": "python",
      "nbconvert_exporter": "python",
      "pygments_lexer": "ipython3",
      "version": "3.11.3"
    },
    "colab": {
      "provenance": []
    }
  },
  "nbformat": 4,
  "nbformat_minor": 5
}