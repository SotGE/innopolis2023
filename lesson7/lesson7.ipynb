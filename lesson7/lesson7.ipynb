{
 "cells": [
  {
   "cell_type": "code",
   "execution_count": 1,
   "outputs": [],
   "source": [
    "import pandas as pd\n",
    "import numpy as np\n",
    "import matplotlib.pyplot as plt\n",
    "import seaborn as sns\n",
    "\n",
    "import sqlite3\n",
    "import psycopg2"
   ],
   "metadata": {
    "collapsed": false,
    "ExecuteTime": {
     "start_time": "2023-08-08T15:33:20.301769Z",
     "end_time": "2023-08-08T15:33:20.320329Z"
    }
   }
  },
  {
   "cell_type": "code",
   "execution_count": 2,
   "outputs": [
    {
     "name": "stdout",
     "output_type": "stream",
     "text": [
      "Подключение установлено\n",
      "Таблица создана\n"
     ]
    }
   ],
   "source": [
    "# Добавление таблиц в sqlite3\n",
    "conn = sqlite3.connect('titanic.db')\n",
    "print('Подключение установлено')\n",
    "# conn.autocommit = True  # устанавливаем актокоммит\n",
    "cursor = conn.cursor()\n",
    "\n",
    "cursor.execute('''\n",
    "CREATE TABLE embarked (\n",
    "    id INTEGER PRIMARY KEY AUTOINCREMENT,\n",
    "    embarked TEXT NOT NULL\n",
    ");\n",
    "''')\n",
    "cursor.execute('''\n",
    "CREATE TABLE cabin (\n",
    "    id INTEGER PRIMARY KEY AUTOINCREMENT,\n",
    "    cabin TEXT NOT NULL\n",
    ");\n",
    "''')\n",
    "cursor.execute('''\n",
    "CREATE TABLE pclass (\n",
    "    id INTEGER PRIMARY KEY AUTOINCREMENT,\n",
    "    pclass INTEGER NOT NULL,\n",
    "    cabin_id INTEGER,\n",
    "    FOREIGN KEY (cabin_id) REFERENCES cabin (id)\n",
    ");\n",
    "''')\n",
    "cursor.execute('''\n",
    "CREATE TABLE ticket (\n",
    "    id INTEGER PRIMARY KEY AUTOINCREMENT,\n",
    "    pclass_id INTEGER,\n",
    "    cabin_id INTEGER,\n",
    "    embarked_id INTEGER,\n",
    "    ticket TEXT NOT NULL,\n",
    "    fare REAL NOT NULL,\n",
    "    FOREIGN KEY (pclass_id) REFERENCES pclass (id),\n",
    "    FOREIGN KEY (cabin_id) REFERENCES cabin (id),\n",
    "    FOREIGN KEY (embarked_id) REFERENCES embarked (id)\n",
    ");\n",
    "''')\n",
    "cursor.execute('''\n",
    "CREATE TABLE passenger (\n",
    "    id INTEGER PRIMARY KEY AUTOINCREMENT,\n",
    "    survived INTEGER NOT NULL,\n",
    "    name TEXT NOT NULL,\n",
    "    sex TEXT NOT NULL,\n",
    "    age REAL NOT NULL,\n",
    "    sibSp INTEGER,\n",
    "    parch INTEGER,\n",
    "    ticket_id INTEGER,\n",
    "    FOREIGN KEY (ticket_id) REFERENCES ticket (id)\n",
    ");\n",
    "''')\n",
    "cursor.close()  # закрываем курсор\n",
    "conn.commit()\n",
    "print('Таблица создана')\n",
    "\n",
    "conn.close()    # закрываем подключение"
   ],
   "metadata": {
    "collapsed": false,
    "ExecuteTime": {
     "start_time": "2023-08-08T15:33:20.322330Z",
     "end_time": "2023-08-08T15:33:20.962340Z"
    }
   }
  },
  {
   "cell_type": "code",
   "execution_count": 3,
   "outputs": [],
   "source": [
    "# # Добавление таблиц в Postgres\n",
    "# conn = psycopg2.connect(\n",
    "#     dbname=\"postgres\",\n",
    "#     host=\"localhost\",\n",
    "#     user=\"postgres\",\n",
    "#     password=\"postgres\",\n",
    "#     port=\"5432\"\n",
    "# )\n",
    "# print('Подключение установлено')\n",
    "# # conn.autocommit = True  # устанавливаем актокоммит\n",
    "# cursor = conn.cursor()\n",
    "#\n",
    "# cursor.execute('''\n",
    "# CREATE TABLE embarked (\n",
    "#     id SERIAL PRIMARY KEY,\n",
    "#     embarked CHARACTER VARYING(255)\n",
    "# );\n",
    "# CREATE TABLE cabin (\n",
    "#     id SERIAL PRIMARY KEY,\n",
    "#     cabin CHARACTER VARYING(255)\n",
    "# );\n",
    "# CREATE TABLE pclass (\n",
    "#     id SERIAL PRIMARY KEY,\n",
    "#     pclass INTEGER,\n",
    "#     cabin_id INTEGER,\n",
    "#     FOREIGN KEY (cabin_id) REFERENCES cabin (id)\n",
    "# );\n",
    "# CREATE TABLE ticket (\n",
    "#     id SERIAL PRIMARY KEY,\n",
    "#     pclass_id INTEGER,\n",
    "#     cabin_id INTEGER,\n",
    "#     embarked_id INTEGER,\n",
    "#     ticket CHARACTER VARYING(255),\n",
    "#     fare REAL,\n",
    "#     FOREIGN KEY (pclass_id) REFERENCES pclass (id),\n",
    "#     FOREIGN KEY (cabin_id) REFERENCES cabin (id),\n",
    "#     FOREIGN KEY (embarked_id) REFERENCES embarked (id)\n",
    "# );\n",
    "# CREATE TABLE passenger (\n",
    "#     id SERIAL PRIMARY KEY,\n",
    "#     survived BOOLEAN,\n",
    "#     name CHARACTER VARYING(255),\n",
    "#     sex CHARACTER VARYING(255),\n",
    "#     age REAL,\n",
    "#     sibSp INTEGER,\n",
    "#     parch INTEGER,\n",
    "#     ticket_id INTEGER,\n",
    "#     FOREIGN KEY (ticket_id) REFERENCES ticket (id)\n",
    "# );\n",
    "# ''')\n",
    "# cursor.commit()\n",
    "# print('Таблица создана')\n",
    "#\n",
    "# cursor.close()  # закрываем курсор\n",
    "# conn.close()    # закрываем подключение"
   ],
   "metadata": {
    "collapsed": false,
    "ExecuteTime": {
     "start_time": "2023-08-08T15:33:20.962340Z",
     "end_time": "2023-08-08T15:33:20.973599Z"
    }
   }
  },
  {
   "cell_type": "code",
   "execution_count": 3,
   "outputs": [],
   "source": [],
   "metadata": {
    "collapsed": false,
    "ExecuteTime": {
     "start_time": "2023-08-08T15:33:20.969090Z",
     "end_time": "2023-08-08T15:33:20.974597Z"
    }
   }
  }
 ],
 "metadata": {
  "kernelspec": {
   "display_name": "Python 3 (ipykernel)",
   "language": "python",
   "name": "python3"
  },
  "language_info": {
   "codemirror_mode": {
    "name": "ipython",
    "version": 3
   },
   "file_extension": ".py",
   "mimetype": "text/x-python",
   "name": "python",
   "nbconvert_exporter": "python",
   "pygments_lexer": "ipython3",
   "version": "3.11.4"
  }
 },
 "nbformat": 4,
 "nbformat_minor": 5
}
