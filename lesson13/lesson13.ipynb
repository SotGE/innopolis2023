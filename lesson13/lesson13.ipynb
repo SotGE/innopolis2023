{
 "cells": [
  {
   "cell_type": "code",
   "execution_count": 13,
   "metadata": {},
   "outputs": [
    {
     "name": "stderr",
     "output_type": "stream",
     "text": [
      "[nltk_data] Downloading package stopwords to\n",
      "[nltk_data]     C:\\Users\\sorokin.m.e\\AppData\\Roaming\\nltk_data...\n",
      "[nltk_data]   Package stopwords is already up-to-date!\n",
      "[nltk_data] Downloading package punkt to\n",
      "[nltk_data]     C:\\Users\\sorokin.m.e\\AppData\\Roaming\\nltk_data...\n",
      "[nltk_data]   Package punkt is already up-to-date!\n"
     ]
    },
    {
     "data": {
      "text/plain": [
       "True"
      ]
     },
     "execution_count": 13,
     "metadata": {},
     "output_type": "execute_result"
    }
   ],
   "source": [
    "import os # работа с папкой и файлами\n",
    "import re # регулярные выражения, доп вариант к очистке\n",
    "import string # работа со строкой\n",
    "\n",
    "import pandas as pd # работа с таблицей dataframe\n",
    "\n",
    "import nltk # работа с пакетами языков\n",
    "from nltk import word_tokenize, ngrams # токенизация и деление на n граммы\n",
    "from nltk.corpus import stopwords # стопслова, extend\n",
    "\n",
    "from wordcloud import WordCloud # визуальное отображение\n",
    "import pymorphy3 # работа с русским языком, pymorphy3\n",
    "\n",
    "import matplotlib.pyplot as plt # визуальное отображение\n",
    "\n",
    "from sklearn.feature_extraction.text import TfidfVectorizer, CountVectorizer\n",
    "\n",
    "nltk.download(\"stopwords\")\n",
    "nltk.download('punkt')"
   ]
  },
  {
   "cell_type": "code",
   "execution_count": 14,
   "metadata": {},
   "outputs": [
    {
     "name": "stdout",
     "output_type": "stream",
     "text": [
      "[]\n"
     ]
    }
   ],
   "source": [
    "# Список файлов в папке\n",
    "FOLDER_NAME = 'data'\n",
    "\n",
    "direct_list = os.listdir(FOLDER_NAME)\n",
    "print(direct_list)"
   ]
  },
  {
   "cell_type": "code",
   "execution_count": 15,
   "metadata": {},
   "outputs": [
    {
     "name": "stdout",
     "output_type": "stream",
     "text": [
      "[]\n"
     ]
    }
   ],
   "source": [
    "# Имена песен из названия файлов\n",
    "names = [song.replace(\".txt\", \"\") for song in direct_list]\n",
    "print(names)"
   ]
  },
  {
   "cell_type": "code",
   "execution_count": 16,
   "metadata": {},
   "outputs": [
    {
     "name": "stdout",
     "output_type": "stream",
     "text": [
      "[]\n"
     ]
    }
   ],
   "source": [
    "# Функция чтения файла\n",
    "def read_song(filename, folder=FOLDER_NAME):\n",
    "  text = ''\n",
    "  with open(f'{folder}/{filename}.txt', 'r', encoding='utf-8') as f:\n",
    "    text = f.read()\n",
    "    text = text.replace('\\n', ' ')\n",
    "  return text\n",
    "\n",
    "# Чтение данных из папки\n",
    "songs_list = []\n",
    "\n",
    "for song in names:\n",
    "  songs_list.append(read_song(song))\n",
    "\n",
    "print(songs_list)"
   ]
  },
  {
   "cell_type": "code",
   "execution_count": 17,
   "metadata": {},
   "outputs": [
    {
     "data": {
      "text/plain": [
       "158"
      ]
     },
     "execution_count": 17,
     "metadata": {},
     "output_type": "execute_result"
    }
   ],
   "source": [
    "# Стоп-слова русского языка\n",
    "stopwords_list = stopwords.words(\"russian\")\n",
    "\n",
    "# Собственные стоп-слова\n",
    "extra_stop = ['твоей', 'свои', 'тобой', 'мой', 'твой', 'мой', 'это']\n",
    "stopwords_list.extend(extra_stop)\n",
    "\n",
    "len(stopwords_list)"
   ]
  }
 ],
 "metadata": {
  "kernelspec": {
   "display_name": "Python 3",
   "language": "python",
   "name": "python3"
  },
  "language_info": {
   "codemirror_mode": {
    "name": "ipython",
    "version": 3
   },
   "file_extension": ".py",
   "mimetype": "text/x-python",
   "name": "python",
   "nbconvert_exporter": "python",
   "pygments_lexer": "ipython3",
   "version": "3.11.5"
  },
  "orig_nbformat": 4
 },
 "nbformat": 4,
 "nbformat_minor": 2
}
